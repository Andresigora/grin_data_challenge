{
 "cells": [
  {
   "cell_type": "markdown",
   "metadata": {},
   "source": [
    "Yellow/Grin Technical Challenge Data Team\n",
    "==========="
   ]
  },
  {
   "cell_type": "code",
   "execution_count": 34,
   "metadata": {},
   "outputs": [],
   "source": [
    "import datetime\n",
    "\n",
    "import matplotlib.pyplot as plt\n",
    "import numpy as np\n",
    "import pandas as pd\n",
    "import psycopg2\n",
    "import seaborn as sns"
   ]
  },
  {
   "cell_type": "markdown",
   "metadata": {},
   "source": [
    "### Connecting to Grin Challenge Database\n"
   ]
  },
  {
   "cell_type": "code",
   "execution_count": 2,
   "metadata": {},
   "outputs": [],
   "source": [
    "def get_from_sql(query):\n",
    "    conn = psycopg2.connect(user='grin_technical_challenge',\n",
    "                               host='grin-technical-test.crf3v8rvj0hp.us-east-1.rds.amazonaws.com',\n",
    "                               database='postgres',\n",
    "                               port='5432',\n",
    "                               password='kjbaskc24bkjhb354bbjk')\n",
    "    df = pd.read_sql(query, conn)\n",
    "    return df"
   ]
  },
  {
   "cell_type": "markdown",
   "metadata": {},
   "source": [
    "### Retrieving rides data\n"
   ]
  },
  {
   "cell_type": "code",
   "execution_count": 3,
   "metadata": {},
   "outputs": [],
   "source": [
    "query = '''\n",
    "select * from rides\n",
    "'''\n",
    "\n",
    "\n",
    "df = get_from_sql(query)"
   ]
  },
  {
   "cell_type": "markdown",
   "metadata": {},
   "source": [
    "### Calculating the RFM Matrix (Recency, Frequency, Monetary)\n",
    "\n",
    "* Recency (R): Who have purchased recently? Number of days since last purchase (least recency)\n",
    "* Frequency (F): Who has purchased frequently? It means the total number of purchases. (high frequency)\n",
    "* Monetary Value(M): Who have high purchase amount? It means the total money customer spent (high monetary value)\n",
    "\n",
    "Here, each of the three variables (Recency, Frequency, and Monetary) consists of four equal groups, which creates 64 (4x4x4) different customer segments."
   ]
  },
  {
   "cell_type": "code",
   "execution_count": 93,
   "metadata": {},
   "outputs": [
    {
     "data": {
      "text/html": [
       "<div>\n",
       "<style scoped>\n",
       "    .dataframe tbody tr th:only-of-type {\n",
       "        vertical-align: middle;\n",
       "    }\n",
       "\n",
       "    .dataframe tbody tr th {\n",
       "        vertical-align: top;\n",
       "    }\n",
       "\n",
       "    .dataframe thead th {\n",
       "        text-align: right;\n",
       "    }\n",
       "</style>\n",
       "<table border=\"1\" class=\"dataframe\">\n",
       "  <thead>\n",
       "    <tr style=\"text-align: right;\">\n",
       "      <th></th>\n",
       "      <th>monetary</th>\n",
       "      <th>frequency</th>\n",
       "      <th>recency</th>\n",
       "    </tr>\n",
       "    <tr>\n",
       "      <th>user_id</th>\n",
       "      <th></th>\n",
       "      <th></th>\n",
       "      <th></th>\n",
       "    </tr>\n",
       "  </thead>\n",
       "  <tbody>\n",
       "    <tr>\n",
       "      <th>1.0</th>\n",
       "      <td>295.42</td>\n",
       "      <td>14</td>\n",
       "      <td>1 days</td>\n",
       "    </tr>\n",
       "    <tr>\n",
       "      <th>2.0</th>\n",
       "      <td>138.35</td>\n",
       "      <td>10</td>\n",
       "      <td>3 days</td>\n",
       "    </tr>\n",
       "    <tr>\n",
       "      <th>3.0</th>\n",
       "      <td>36.79</td>\n",
       "      <td>2</td>\n",
       "      <td>7 days</td>\n",
       "    </tr>\n",
       "    <tr>\n",
       "      <th>4.0</th>\n",
       "      <td>13.70</td>\n",
       "      <td>1</td>\n",
       "      <td>8 days</td>\n",
       "    </tr>\n",
       "    <tr>\n",
       "      <th>5.0</th>\n",
       "      <td>202.04</td>\n",
       "      <td>11</td>\n",
       "      <td>19 days</td>\n",
       "    </tr>\n",
       "  </tbody>\n",
       "</table>\n",
       "</div>"
      ],
      "text/plain": [
       "         monetary  frequency recency\n",
       "user_id                             \n",
       "1.0        295.42         14  1 days\n",
       "2.0        138.35         10  3 days\n",
       "3.0         36.79          2  7 days\n",
       "4.0         13.70          1  8 days\n",
       "5.0        202.04         11 19 days"
      ]
     },
     "execution_count": 93,
     "metadata": {},
     "output_type": "execute_result"
    }
   ],
   "source": [
    "rfm = df.groupby('user_id').agg({'finish_time': max,\n",
    "                                 'price': sum,\n",
    "                                 'id': 'count'})\\\n",
    "                            .rename(columns={'finish_time': 'last_ride', 'price': 'monetary', 'id': 'frequency'})\n",
    "\n",
    "rfm['last_ride'] = rfm['last_ride'].dt.date\n",
    "\n",
    "# Normally we would consider the current date as today, but since we only have data until Sep. 17th, \\\n",
    "# let's pretend the 18th is our current date\n",
    "rfm['recency'] = datetime.date(2018, 9, 18) - rfm['last_ride']\n",
    "rfm = rfm.drop('last_ride', axis=1)\n",
    "\n",
    "rfm.head()"
   ]
  },
  {
   "cell_type": "markdown",
   "metadata": {},
   "source": [
    "### Computing Quantile of RFM values\n",
    "\n",
    "Customers with the lowest recency, highest frequency and monetary amounts considered as top customers.\n",
    "\n",
    "qcut() is Quantile-based discretization function. qcut bins the data based on sample quantiles. For example, 1000 values for 4 quantiles would produce a categorical object indicating quantile membership for each customer.\n",
    "\n"
   ]
  },
  {
   "cell_type": "code",
   "execution_count": 94,
   "metadata": {},
   "outputs": [
    {
     "data": {
      "text/html": [
       "<div>\n",
       "<style scoped>\n",
       "    .dataframe tbody tr th:only-of-type {\n",
       "        vertical-align: middle;\n",
       "    }\n",
       "\n",
       "    .dataframe tbody tr th {\n",
       "        vertical-align: top;\n",
       "    }\n",
       "\n",
       "    .dataframe thead th {\n",
       "        text-align: right;\n",
       "    }\n",
       "</style>\n",
       "<table border=\"1\" class=\"dataframe\">\n",
       "  <thead>\n",
       "    <tr style=\"text-align: right;\">\n",
       "      <th></th>\n",
       "      <th>monetary</th>\n",
       "      <th>frequency</th>\n",
       "      <th>recency</th>\n",
       "      <th>r_quartile</th>\n",
       "      <th>f_quartile</th>\n",
       "      <th>m_quartile</th>\n",
       "    </tr>\n",
       "    <tr>\n",
       "      <th>user_id</th>\n",
       "      <th></th>\n",
       "      <th></th>\n",
       "      <th></th>\n",
       "      <th></th>\n",
       "      <th></th>\n",
       "      <th></th>\n",
       "    </tr>\n",
       "  </thead>\n",
       "  <tbody>\n",
       "    <tr>\n",
       "      <th>1.0</th>\n",
       "      <td>295.42</td>\n",
       "      <td>14</td>\n",
       "      <td>1 days</td>\n",
       "      <td>4</td>\n",
       "      <td>4</td>\n",
       "      <td>4</td>\n",
       "    </tr>\n",
       "    <tr>\n",
       "      <th>2.0</th>\n",
       "      <td>138.35</td>\n",
       "      <td>10</td>\n",
       "      <td>3 days</td>\n",
       "      <td>4</td>\n",
       "      <td>4</td>\n",
       "      <td>4</td>\n",
       "    </tr>\n",
       "    <tr>\n",
       "      <th>3.0</th>\n",
       "      <td>36.79</td>\n",
       "      <td>2</td>\n",
       "      <td>7 days</td>\n",
       "      <td>3</td>\n",
       "      <td>2</td>\n",
       "      <td>3</td>\n",
       "    </tr>\n",
       "    <tr>\n",
       "      <th>4.0</th>\n",
       "      <td>13.70</td>\n",
       "      <td>1</td>\n",
       "      <td>8 days</td>\n",
       "      <td>3</td>\n",
       "      <td>1</td>\n",
       "      <td>1</td>\n",
       "    </tr>\n",
       "    <tr>\n",
       "      <th>5.0</th>\n",
       "      <td>202.04</td>\n",
       "      <td>11</td>\n",
       "      <td>19 days</td>\n",
       "      <td>2</td>\n",
       "      <td>4</td>\n",
       "      <td>4</td>\n",
       "    </tr>\n",
       "  </tbody>\n",
       "</table>\n",
       "</div>"
      ],
      "text/plain": [
       "         monetary  frequency recency r_quartile f_quartile m_quartile\n",
       "user_id                                                              \n",
       "1.0        295.42         14  1 days          4          4          4\n",
       "2.0        138.35         10  3 days          4          4          4\n",
       "3.0         36.79          2  7 days          3          2          3\n",
       "4.0         13.70          1  8 days          3          1          1\n",
       "5.0        202.04         11 19 days          2          4          4"
      ]
     },
     "execution_count": 94,
     "metadata": {},
     "output_type": "execute_result"
    }
   ],
   "source": [
    "rfm['r_quartile'] = pd.qcut(rfm['recency'], 4, labels=[4, 3, 2, 1], duplicates='drop') #Recency is inverted because the most recent has a higher value\n",
    "rfm['f_quartile'] = pd.qcut(rfm['frequency'].rank(method='first'), 4, labels=[1, 2, 3, 4])\n",
    "rfm['m_quartile'] = pd.qcut(rfm['monetary'], 4, labels=[1, 2, 3, 4])\n",
    "\n",
    "rfm.head()"
   ]
  },
  {
   "cell_type": "markdown",
   "metadata": {},
   "source": [
    "### RFM Result Interpretation\n",
    "\n",
    "Combining all three quartiles(r_quartile,f_quartile,m_quartile) in a single column will help giving interpretability."
   ]
  },
  {
   "cell_type": "code",
   "execution_count": 95,
   "metadata": {
    "scrolled": true
   },
   "outputs": [
    {
     "data": {
      "text/html": [
       "<div>\n",
       "<style scoped>\n",
       "    .dataframe tbody tr th:only-of-type {\n",
       "        vertical-align: middle;\n",
       "    }\n",
       "\n",
       "    .dataframe tbody tr th {\n",
       "        vertical-align: top;\n",
       "    }\n",
       "\n",
       "    .dataframe thead th {\n",
       "        text-align: right;\n",
       "    }\n",
       "</style>\n",
       "<table border=\"1\" class=\"dataframe\">\n",
       "  <thead>\n",
       "    <tr style=\"text-align: right;\">\n",
       "      <th></th>\n",
       "      <th>monetary</th>\n",
       "      <th>frequency</th>\n",
       "      <th>recency</th>\n",
       "      <th>r_quartile</th>\n",
       "      <th>f_quartile</th>\n",
       "      <th>m_quartile</th>\n",
       "      <th>RFM_Segment</th>\n",
       "      <th>RFM_Score</th>\n",
       "    </tr>\n",
       "    <tr>\n",
       "      <th>user_id</th>\n",
       "      <th></th>\n",
       "      <th></th>\n",
       "      <th></th>\n",
       "      <th></th>\n",
       "      <th></th>\n",
       "      <th></th>\n",
       "      <th></th>\n",
       "      <th></th>\n",
       "    </tr>\n",
       "  </thead>\n",
       "  <tbody>\n",
       "    <tr>\n",
       "      <th>1.0</th>\n",
       "      <td>295.42</td>\n",
       "      <td>14</td>\n",
       "      <td>1 days</td>\n",
       "      <td>4</td>\n",
       "      <td>4</td>\n",
       "      <td>4</td>\n",
       "      <td>444</td>\n",
       "      <td>12.0</td>\n",
       "    </tr>\n",
       "    <tr>\n",
       "      <th>2.0</th>\n",
       "      <td>138.35</td>\n",
       "      <td>10</td>\n",
       "      <td>3 days</td>\n",
       "      <td>4</td>\n",
       "      <td>4</td>\n",
       "      <td>4</td>\n",
       "      <td>444</td>\n",
       "      <td>12.0</td>\n",
       "    </tr>\n",
       "    <tr>\n",
       "      <th>3.0</th>\n",
       "      <td>36.79</td>\n",
       "      <td>2</td>\n",
       "      <td>7 days</td>\n",
       "      <td>3</td>\n",
       "      <td>2</td>\n",
       "      <td>3</td>\n",
       "      <td>323</td>\n",
       "      <td>8.0</td>\n",
       "    </tr>\n",
       "    <tr>\n",
       "      <th>4.0</th>\n",
       "      <td>13.70</td>\n",
       "      <td>1</td>\n",
       "      <td>8 days</td>\n",
       "      <td>3</td>\n",
       "      <td>1</td>\n",
       "      <td>1</td>\n",
       "      <td>311</td>\n",
       "      <td>5.0</td>\n",
       "    </tr>\n",
       "    <tr>\n",
       "      <th>5.0</th>\n",
       "      <td>202.04</td>\n",
       "      <td>11</td>\n",
       "      <td>19 days</td>\n",
       "      <td>2</td>\n",
       "      <td>4</td>\n",
       "      <td>4</td>\n",
       "      <td>244</td>\n",
       "      <td>10.0</td>\n",
       "    </tr>\n",
       "  </tbody>\n",
       "</table>\n",
       "</div>"
      ],
      "text/plain": [
       "         monetary  frequency recency r_quartile f_quartile m_quartile  \\\n",
       "user_id                                                                 \n",
       "1.0        295.42         14  1 days          4          4          4   \n",
       "2.0        138.35         10  3 days          4          4          4   \n",
       "3.0         36.79          2  7 days          3          2          3   \n",
       "4.0         13.70          1  8 days          3          1          1   \n",
       "5.0        202.04         11 19 days          2          4          4   \n",
       "\n",
       "        RFM_Segment  RFM_Score  \n",
       "user_id                         \n",
       "1.0             444       12.0  \n",
       "2.0             444       12.0  \n",
       "3.0             323        8.0  \n",
       "4.0             311        5.0  \n",
       "5.0             244       10.0  "
      ]
     },
     "execution_count": 95,
     "metadata": {},
     "output_type": "execute_result"
    }
   ],
   "source": [
    "rfm['RFM_Segment'] = rfm.r_quartile.astype(str)+ rfm.f_quartile.astype(str) + rfm.m_quartile.astype(str)\n",
    "rfm['RFM_Score'] = rfm[['r_quartile', 'f_quartile', 'm_quartile']].sum(axis=1)\n",
    "\n",
    "rfm.head()"
   ]
  },
  {
   "cell_type": "markdown",
   "metadata": {},
   "source": [
    "### Pick your champion!\n",
    "\n",
    "Let's assume you want to see your most recent rider, most frequent and most lifetime-value.\n",
    "\n",
    "In this case, you'd want to filter out the group **444** on the RFM_Segment column or **12** on the RFM_Score column. So, let's do that.\n",
    "\n",
    "Recency 4 = Most Recent\n",
    "\n",
    "Frequency 4 = Most Frequent\n",
    "\n",
    "Frequency 4 = Most Lifetime value"
   ]
  },
  {
   "cell_type": "code",
   "execution_count": 96,
   "metadata": {
    "scrolled": true
   },
   "outputs": [
    {
     "data": {
      "text/html": [
       "<div>\n",
       "<style scoped>\n",
       "    .dataframe tbody tr th:only-of-type {\n",
       "        vertical-align: middle;\n",
       "    }\n",
       "\n",
       "    .dataframe tbody tr th {\n",
       "        vertical-align: top;\n",
       "    }\n",
       "\n",
       "    .dataframe thead th {\n",
       "        text-align: right;\n",
       "    }\n",
       "</style>\n",
       "<table border=\"1\" class=\"dataframe\">\n",
       "  <thead>\n",
       "    <tr style=\"text-align: right;\">\n",
       "      <th></th>\n",
       "      <th>monetary</th>\n",
       "      <th>frequency</th>\n",
       "      <th>recency</th>\n",
       "      <th>r_quartile</th>\n",
       "      <th>f_quartile</th>\n",
       "      <th>m_quartile</th>\n",
       "      <th>RFM_Segment</th>\n",
       "      <th>RFM_Score</th>\n",
       "    </tr>\n",
       "    <tr>\n",
       "      <th>user_id</th>\n",
       "      <th></th>\n",
       "      <th></th>\n",
       "      <th></th>\n",
       "      <th></th>\n",
       "      <th></th>\n",
       "      <th></th>\n",
       "      <th></th>\n",
       "      <th></th>\n",
       "    </tr>\n",
       "  </thead>\n",
       "  <tbody>\n",
       "    <tr>\n",
       "      <th>1110759.0</th>\n",
       "      <td>4897.41</td>\n",
       "      <td>519</td>\n",
       "      <td>1 days</td>\n",
       "      <td>4</td>\n",
       "      <td>4</td>\n",
       "      <td>4</td>\n",
       "      <td>444</td>\n",
       "      <td>12.0</td>\n",
       "    </tr>\n",
       "    <tr>\n",
       "      <th>637970.0</th>\n",
       "      <td>2174.34</td>\n",
       "      <td>83</td>\n",
       "      <td>1 days</td>\n",
       "      <td>4</td>\n",
       "      <td>4</td>\n",
       "      <td>4</td>\n",
       "      <td>444</td>\n",
       "      <td>12.0</td>\n",
       "    </tr>\n",
       "    <tr>\n",
       "      <th>701742.0</th>\n",
       "      <td>1509.74</td>\n",
       "      <td>69</td>\n",
       "      <td>2 days</td>\n",
       "      <td>4</td>\n",
       "      <td>4</td>\n",
       "      <td>4</td>\n",
       "      <td>444</td>\n",
       "      <td>12.0</td>\n",
       "    </tr>\n",
       "    <tr>\n",
       "      <th>33289.0</th>\n",
       "      <td>1210.38</td>\n",
       "      <td>46</td>\n",
       "      <td>5 days</td>\n",
       "      <td>4</td>\n",
       "      <td>4</td>\n",
       "      <td>4</td>\n",
       "      <td>444</td>\n",
       "      <td>12.0</td>\n",
       "    </tr>\n",
       "    <tr>\n",
       "      <th>126006.0</th>\n",
       "      <td>1072.50</td>\n",
       "      <td>45</td>\n",
       "      <td>2 days</td>\n",
       "      <td>4</td>\n",
       "      <td>4</td>\n",
       "      <td>4</td>\n",
       "      <td>444</td>\n",
       "      <td>12.0</td>\n",
       "    </tr>\n",
       "    <tr>\n",
       "      <th>122079.0</th>\n",
       "      <td>1063.66</td>\n",
       "      <td>83</td>\n",
       "      <td>2 days</td>\n",
       "      <td>4</td>\n",
       "      <td>4</td>\n",
       "      <td>4</td>\n",
       "      <td>444</td>\n",
       "      <td>12.0</td>\n",
       "    </tr>\n",
       "    <tr>\n",
       "      <th>258951.0</th>\n",
       "      <td>1057.11</td>\n",
       "      <td>56</td>\n",
       "      <td>3 days</td>\n",
       "      <td>4</td>\n",
       "      <td>4</td>\n",
       "      <td>4</td>\n",
       "      <td>444</td>\n",
       "      <td>12.0</td>\n",
       "    </tr>\n",
       "    <tr>\n",
       "      <th>1075277.0</th>\n",
       "      <td>1053.48</td>\n",
       "      <td>78</td>\n",
       "      <td>2 days</td>\n",
       "      <td>4</td>\n",
       "      <td>4</td>\n",
       "      <td>4</td>\n",
       "      <td>444</td>\n",
       "      <td>12.0</td>\n",
       "    </tr>\n",
       "    <tr>\n",
       "      <th>1128626.0</th>\n",
       "      <td>1050.01</td>\n",
       "      <td>61</td>\n",
       "      <td>2 days</td>\n",
       "      <td>4</td>\n",
       "      <td>4</td>\n",
       "      <td>4</td>\n",
       "      <td>444</td>\n",
       "      <td>12.0</td>\n",
       "    </tr>\n",
       "    <tr>\n",
       "      <th>909166.0</th>\n",
       "      <td>1012.02</td>\n",
       "      <td>91</td>\n",
       "      <td>1 days</td>\n",
       "      <td>4</td>\n",
       "      <td>4</td>\n",
       "      <td>4</td>\n",
       "      <td>444</td>\n",
       "      <td>12.0</td>\n",
       "    </tr>\n",
       "  </tbody>\n",
       "</table>\n",
       "</div>"
      ],
      "text/plain": [
       "           monetary  frequency recency r_quartile f_quartile m_quartile  \\\n",
       "user_id                                                                   \n",
       "1110759.0   4897.41        519  1 days          4          4          4   \n",
       "637970.0    2174.34         83  1 days          4          4          4   \n",
       "701742.0    1509.74         69  2 days          4          4          4   \n",
       "33289.0     1210.38         46  5 days          4          4          4   \n",
       "126006.0    1072.50         45  2 days          4          4          4   \n",
       "122079.0    1063.66         83  2 days          4          4          4   \n",
       "258951.0    1057.11         56  3 days          4          4          4   \n",
       "1075277.0   1053.48         78  2 days          4          4          4   \n",
       "1128626.0   1050.01         61  2 days          4          4          4   \n",
       "909166.0    1012.02         91  1 days          4          4          4   \n",
       "\n",
       "          RFM_Segment  RFM_Score  \n",
       "user_id                           \n",
       "1110759.0         444       12.0  \n",
       "637970.0          444       12.0  \n",
       "701742.0          444       12.0  \n",
       "33289.0           444       12.0  \n",
       "126006.0          444       12.0  \n",
       "122079.0          444       12.0  \n",
       "258951.0          444       12.0  \n",
       "1075277.0         444       12.0  \n",
       "1128626.0         444       12.0  \n",
       "909166.0          444       12.0  "
      ]
     },
     "execution_count": 96,
     "metadata": {},
     "output_type": "execute_result"
    }
   ],
   "source": [
    "champions = rfm[rfm['RFM_Segment'] == '444'].sort_values('monetary', ascending=False)\n",
    "champions.head(10) #Top 10"
   ]
  },
  {
   "cell_type": "markdown",
   "metadata": {},
   "source": [
    "### Investigating the size of each RFM Segment\n"
   ]
  },
  {
   "cell_type": "code",
   "execution_count": 97,
   "metadata": {},
   "outputs": [
    {
     "data": {
      "text/plain": [
       "RFM_Segment\n",
       "444    79018\n",
       "111    46964\n",
       "344    46866\n",
       "121    29424\n",
       "211    28802\n",
       "112    28724\n",
       "333    25869\n",
       "233    24984\n",
       "244    22788\n",
       "221    22650\n",
       "dtype: int64"
      ]
     },
     "execution_count": 97,
     "metadata": {},
     "output_type": "execute_result"
    }
   ],
   "source": [
    "rfm.groupby('RFM_Segment').size().sort_values(ascending=False)[:10]"
   ]
  },
  {
   "cell_type": "markdown",
   "metadata": {},
   "source": [
    "### Summary metrics for each RFM Segment"
   ]
  },
  {
   "cell_type": "code",
   "execution_count": 98,
   "metadata": {},
   "outputs": [
    {
     "data": {
      "text/html": [
       "<div>\n",
       "<style scoped>\n",
       "    .dataframe tbody tr th:only-of-type {\n",
       "        vertical-align: middle;\n",
       "    }\n",
       "\n",
       "    .dataframe tbody tr th {\n",
       "        vertical-align: top;\n",
       "    }\n",
       "\n",
       "    .dataframe thead tr th {\n",
       "        text-align: left;\n",
       "    }\n",
       "\n",
       "    .dataframe thead tr:last-of-type th {\n",
       "        text-align: right;\n",
       "    }\n",
       "</style>\n",
       "<table border=\"1\" class=\"dataframe\">\n",
       "  <thead>\n",
       "    <tr>\n",
       "      <th></th>\n",
       "      <th>recency</th>\n",
       "      <th>frequency</th>\n",
       "      <th colspan=\"2\" halign=\"left\">monetary</th>\n",
       "    </tr>\n",
       "    <tr>\n",
       "      <th></th>\n",
       "      <th>mean</th>\n",
       "      <th>mean</th>\n",
       "      <th>mean</th>\n",
       "      <th>count</th>\n",
       "    </tr>\n",
       "    <tr>\n",
       "      <th>RFM_Score</th>\n",
       "      <th></th>\n",
       "      <th></th>\n",
       "      <th></th>\n",
       "      <th></th>\n",
       "    </tr>\n",
       "  </thead>\n",
       "  <tbody>\n",
       "    <tr>\n",
       "      <th>3.0</th>\n",
       "      <td>41.3</td>\n",
       "      <td>1.0</td>\n",
       "      <td>9.1</td>\n",
       "      <td>46964</td>\n",
       "    </tr>\n",
       "    <tr>\n",
       "      <th>4.0</th>\n",
       "      <td>33.2</td>\n",
       "      <td>1.0</td>\n",
       "      <td>12.4</td>\n",
       "      <td>86950</td>\n",
       "    </tr>\n",
       "    <tr>\n",
       "      <th>5.0</th>\n",
       "      <td>25.0</td>\n",
       "      <td>1.1</td>\n",
       "      <td>16.7</td>\n",
       "      <td>93053</td>\n",
       "    </tr>\n",
       "    <tr>\n",
       "      <th>6.0</th>\n",
       "      <td>19.5</td>\n",
       "      <td>1.4</td>\n",
       "      <td>19.7</td>\n",
       "      <td>98541</td>\n",
       "    </tr>\n",
       "    <tr>\n",
       "      <th>7.0</th>\n",
       "      <td>16.6</td>\n",
       "      <td>1.8</td>\n",
       "      <td>25.4</td>\n",
       "      <td>92247</td>\n",
       "    </tr>\n",
       "    <tr>\n",
       "      <th>8.0</th>\n",
       "      <td>14.5</td>\n",
       "      <td>2.4</td>\n",
       "      <td>34.2</td>\n",
       "      <td>80616</td>\n",
       "    </tr>\n",
       "    <tr>\n",
       "      <th>9.0</th>\n",
       "      <td>11.8</td>\n",
       "      <td>3.2</td>\n",
       "      <td>44.7</td>\n",
       "      <td>77506</td>\n",
       "    </tr>\n",
       "    <tr>\n",
       "      <th>10.0</th>\n",
       "      <td>10.2</td>\n",
       "      <td>4.7</td>\n",
       "      <td>66.1</td>\n",
       "      <td>72515</td>\n",
       "    </tr>\n",
       "    <tr>\n",
       "      <th>11.0</th>\n",
       "      <td>6.8</td>\n",
       "      <td>7.1</td>\n",
       "      <td>95.9</td>\n",
       "      <td>72564</td>\n",
       "    </tr>\n",
       "    <tr>\n",
       "      <th>12.0</th>\n",
       "      <td>3.0</td>\n",
       "      <td>10.9</td>\n",
       "      <td>142.1</td>\n",
       "      <td>79018</td>\n",
       "    </tr>\n",
       "  </tbody>\n",
       "</table>\n",
       "</div>"
      ],
      "text/plain": [
       "          recency frequency monetary       \n",
       "             mean      mean     mean  count\n",
       "RFM_Score                                  \n",
       "3.0          41.3       1.0      9.1  46964\n",
       "4.0          33.2       1.0     12.4  86950\n",
       "5.0          25.0       1.1     16.7  93053\n",
       "6.0          19.5       1.4     19.7  98541\n",
       "7.0          16.6       1.8     25.4  92247\n",
       "8.0          14.5       2.4     34.2  80616\n",
       "9.0          11.8       3.2     44.7  77506\n",
       "10.0         10.2       4.7     66.1  72515\n",
       "11.0          6.8       7.1     95.9  72564\n",
       "12.0          3.0      10.9    142.1  79018"
      ]
     },
     "execution_count": 98,
     "metadata": {},
     "output_type": "execute_result"
    }
   ],
   "source": [
    "rfm['recency'] = rfm['recency'].dt.days\n",
    "\n",
    "rfm.groupby('RFM_Segment').agg({\n",
    "    'recency': 'mean',\n",
    "    'frequency': 'mean',\n",
    "    'monetary': ['mean', 'count'] }).round(1)"
   ]
  },
  {
   "cell_type": "markdown",
   "metadata": {},
   "source": [
    "### Grouping segments\n",
    "\n",
    "Next, we could create business rules to fit these RFM Segments into categories, such as Bronze, Silver, Gold, etc...\n",
    "\n",
    "Or we could try another approach: let the machine figure it out for us.\n",
    "\n",
    "For that, we will use *k-means clustering*, a unsupervised machine learning technique."
   ]
  },
  {
   "cell_type": "markdown",
   "metadata": {},
   "source": [
    "### Checking for skewness in the variables"
   ]
  },
  {
   "cell_type": "code",
   "execution_count": 104,
   "metadata": {},
   "outputs": [
    {
     "data": {
      "text/plain": [
       "<seaborn.axisgrid.PairGrid at 0x244d6919828>"
      ]
     },
     "execution_count": 104,
     "metadata": {},
     "output_type": "execute_result"
    },
    {
     "data": {
      "image/png": "[encoded data removed]",
      "text/plain": [
       "<Figure size 540x540 with 12 Axes>"
      ]
     },
     "metadata": {
      "needs_background": "light"
     },
     "output_type": "display_data"
    }
   ],
   "source": [
    "sns.pairplot(rfm[['recency', 'frequency', 'monetary']], diag_kind='kde')"
   ]
  },
  {
   "cell_type": "markdown",
   "metadata": {},
   "source": [
    "### Managing the skewness\n",
    "\n",
    "As we can see on the plot above, it is clear that the 3 variables are skewed.\n",
    "\n",
    "#### Sequence\n",
    "* Unskew the data - log transformation\n",
    "* Standardize to the same average values\n",
    "* Scale to the same standard deviation\n",
    "* Store as a separate array to be used for clustering"
   ]
  },
  {
   "cell_type": "code",
   "execution_count": 156,
   "metadata": {},
   "outputs": [
    {
     "name": "stdout",
     "output_type": "stream",
     "text": [
      "mean:  [-0.  0. -0.]\n",
      "std:  [1. 1. 1.]\n"
     ]
    }
   ],
   "source": [
    "from sklearn.preprocessing import StandardScaler\n",
    "\n",
    "\n",
    "rfm_log = np.log(rfm[['recency', 'frequency', 'monetary']] + 1)\n",
    "\n",
    "scaler = StandardScaler()\n",
    "scaler.fit(rfm_log[['recency', 'frequency', 'monetary']])\n",
    "\n",
    "rfm_normalized = scaler.transform(rfm_log[['recency', 'frequency', 'monetary']])\n",
    "\n",
    "print('mean: ', rfm_normalized.mean(axis=0).round(2))\n",
    "print('std: ', rfm_normalized.std(axis=0).round(2))"
   ]
  },
  {
   "cell_type": "markdown",
   "metadata": {},
   "source": [
    "### K-means Clustering\n",
    "\n",
    "* <strike>Data pre-processing</strike>\n",
    "* Choosing a number of clusters\n",
    "* Running k-means clustering on pre-processed data\n",
    "* Analyzing average RFM values of each cluster"
   ]
  },
  {
   "cell_type": "code",
   "execution_count": 158,
   "metadata": {},
   "outputs": [],
   "source": [
    "from sklearn.cluster import KMeans\n",
    "\n",
    "#let's try with a 4-clusters solution first:\n",
    "kmeans = KMeans(n_clusters=4, random_state=1)\n",
    "kmeans.fit(rfm_normalized)\n",
    "\n",
    "cluster_labels = kmeans.labels_"
   ]
  },
  {
   "cell_type": "code",
   "execution_count": 164,
   "metadata": {},
   "outputs": [
    {
     "data": {
      "text/html": [
       "<div>\n",
       "<style scoped>\n",
       "    .dataframe tbody tr th:only-of-type {\n",
       "        vertical-align: middle;\n",
       "    }\n",
       "\n",
       "    .dataframe tbody tr th {\n",
       "        vertical-align: top;\n",
       "    }\n",
       "\n",
       "    .dataframe thead tr th {\n",
       "        text-align: left;\n",
       "    }\n",
       "\n",
       "    .dataframe thead tr:last-of-type th {\n",
       "        text-align: right;\n",
       "    }\n",
       "</style>\n",
       "<table border=\"1\" class=\"dataframe\">\n",
       "  <thead>\n",
       "    <tr>\n",
       "      <th></th>\n",
       "      <th>recency</th>\n",
       "      <th>frequency</th>\n",
       "      <th colspan=\"2\" halign=\"left\">monetary</th>\n",
       "    </tr>\n",
       "    <tr>\n",
       "      <th></th>\n",
       "      <th>mean</th>\n",
       "      <th>mean</th>\n",
       "      <th>mean</th>\n",
       "      <th>count</th>\n",
       "    </tr>\n",
       "    <tr>\n",
       "      <th>cluster</th>\n",
       "      <th></th>\n",
       "      <th></th>\n",
       "      <th></th>\n",
       "      <th></th>\n",
       "    </tr>\n",
       "  </thead>\n",
       "  <tbody>\n",
       "    <tr>\n",
       "      <th>1</th>\n",
       "      <td>5.0</td>\n",
       "      <td>2.0</td>\n",
       "      <td>22.0</td>\n",
       "      <td>171578</td>\n",
       "    </tr>\n",
       "    <tr>\n",
       "      <th>2</th>\n",
       "      <td>5.0</td>\n",
       "      <td>10.0</td>\n",
       "      <td>127.0</td>\n",
       "      <td>145482</td>\n",
       "    </tr>\n",
       "    <tr>\n",
       "      <th>3</th>\n",
       "      <td>19.0</td>\n",
       "      <td>3.0</td>\n",
       "      <td>51.0</td>\n",
       "      <td>190634</td>\n",
       "    </tr>\n",
       "    <tr>\n",
       "      <th>4</th>\n",
       "      <td>30.0</td>\n",
       "      <td>1.0</td>\n",
       "      <td>15.0</td>\n",
       "      <td>292280</td>\n",
       "    </tr>\n",
       "  </tbody>\n",
       "</table>\n",
       "</div>"
      ],
      "text/plain": [
       "        recency frequency monetary        \n",
       "           mean      mean     mean   count\n",
       "cluster                                   \n",
       "1           5.0       2.0     22.0  171578\n",
       "2           5.0      10.0    127.0  145482\n",
       "3          19.0       3.0     51.0  190634\n",
       "4          30.0       1.0     15.0  292280"
      ]
     },
     "execution_count": 164,
     "metadata": {},
     "output_type": "execute_result"
    }
   ],
   "source": [
    "rfm_w_clusters = rfm.assign(cluster = cluster_labels + 1) #Adding 1 so we don't end up with a Cluster 0\n",
    "\n",
    "\n",
    "rfm_w_clusters.groupby(['cluster']).agg({\n",
    "                                        'recency': 'mean',\n",
    "                                        'frequency': 'mean',\n",
    "                                        'monetary': ['mean', 'count'],\n",
    "                                        }).round(0)"
   ]
  },
  {
   "cell_type": "markdown",
   "metadata": {},
   "source": [
    "### Choosing the number of clusters\n",
    "\n",
    "We can infer the optimal number of cluster by utilizing the elbow plot"
   ]
  },
  {
   "cell_type": "code",
   "execution_count": 166,
   "metadata": {},
   "outputs": [],
   "source": [
    "# Fit KMeans and calculate Sum of Squared Errors for each *k*\n",
    "sse = {}\n",
    "for k in range(1, 11):\n",
    "    kmeans = KMeans(n_clusters=k, random_state=1)\n",
    "    kmeans.fit(rfm_normalized)\n",
    "    sse[k] = kmeans.inertia_ # sum of squared distances to closest cluster center"
   ]
  },
  {
   "cell_type": "code",
   "execution_count": 167,
   "metadata": {},
   "outputs": [
    {
     "data": {
      "image/png": "[encoded data removed]",
      "text/plain": [
       "<Figure size 432x288 with 1 Axes>"
      ]
     },
     "metadata": {
      "needs_background": "light"
     },
     "output_type": "display_data"
    }
   ],
   "source": [
    "#Plotting\n",
    "plt.title('The Elbow Plot')\n",
    "plt.xlabel('k'); plt.ylabel('SSE')\n",
    "sns.pointplot(x=list(sse.keys()), y=list(sse.values()))\n",
    "plt.show()"
   ]
  },
  {
   "cell_type": "markdown",
   "metadata": {},
   "source": [
    "#### So... 4 Clusters?\n",
    "\n",
    "There's no correct answer to this. But this plot helps visualizing the optimal number of clusters (where the error is minimized and we can still maintain a level of clustering to our data). For this challenge I am choosing 4 clusters, backed by data. But it could work for 3 clusters too, depending on the level of resolution one might want."
   ]
  },
  {
   "cell_type": "markdown",
   "metadata": {},
   "source": [
    "### Creating a snake plot to interpret each cluster"
   ]
  },
  {
   "cell_type": "code",
   "execution_count": 175,
   "metadata": {},
   "outputs": [
    {
     "data": {
      "text/html": [
       "<div>\n",
       "<style scoped>\n",
       "    .dataframe tbody tr th:only-of-type {\n",
       "        vertical-align: middle;\n",
       "    }\n",
       "\n",
       "    .dataframe tbody tr th {\n",
       "        vertical-align: top;\n",
       "    }\n",
       "\n",
       "    .dataframe thead th {\n",
       "        text-align: right;\n",
       "    }\n",
       "</style>\n",
       "<table border=\"1\" class=\"dataframe\">\n",
       "  <thead>\n",
       "    <tr style=\"text-align: right;\">\n",
       "      <th></th>\n",
       "      <th>recency</th>\n",
       "      <th>frequency</th>\n",
       "      <th>monetary</th>\n",
       "      <th>cluster</th>\n",
       "    </tr>\n",
       "    <tr>\n",
       "      <th>user_id</th>\n",
       "      <th></th>\n",
       "      <th></th>\n",
       "      <th></th>\n",
       "      <th></th>\n",
       "    </tr>\n",
       "  </thead>\n",
       "  <tbody>\n",
       "    <tr>\n",
       "      <th>1.0</th>\n",
       "      <td>-2.121185</td>\n",
       "      <td>2.383242</td>\n",
       "      <td>2.516623</td>\n",
       "      <td>2</td>\n",
       "    </tr>\n",
       "    <tr>\n",
       "      <th>2.0</th>\n",
       "      <td>-1.341462</td>\n",
       "      <td>1.881421</td>\n",
       "      <td>1.689942</td>\n",
       "      <td>2</td>\n",
       "    </tr>\n",
       "    <tr>\n",
       "      <th>3.0</th>\n",
       "      <td>-0.561738</td>\n",
       "      <td>-0.220779</td>\n",
       "      <td>0.260705</td>\n",
       "      <td>1</td>\n",
       "    </tr>\n",
       "    <tr>\n",
       "      <th>4.0</th>\n",
       "      <td>-0.429243</td>\n",
       "      <td>-0.876809</td>\n",
       "      <td>-0.773425</td>\n",
       "      <td>1</td>\n",
       "    </tr>\n",
       "    <tr>\n",
       "      <th>5.0</th>\n",
       "      <td>0.469001</td>\n",
       "      <td>2.022202</td>\n",
       "      <td>2.102209</td>\n",
       "      <td>2</td>\n",
       "    </tr>\n",
       "  </tbody>\n",
       "</table>\n",
       "</div>"
      ],
      "text/plain": [
       "          recency  frequency  monetary  cluster\n",
       "user_id                                        \n",
       "1.0     -2.121185   2.383242  2.516623        2\n",
       "2.0     -1.341462   1.881421  1.689942        2\n",
       "3.0     -0.561738  -0.220779  0.260705        1\n",
       "4.0     -0.429243  -0.876809 -0.773425        1\n",
       "5.0      0.469001   2.022202  2.102209        2"
      ]
     },
     "execution_count": 175,
     "metadata": {},
     "output_type": "execute_result"
    }
   ],
   "source": [
    "rfm_normalized_df = pd.DataFrame(rfm_normalized, \n",
    "                                   index=rfm.index, \n",
    "                                   columns=['recency', 'frequency', 'monetary'])\n",
    "rfm_normalized_df['cluster'] = rfm_w_clusters['cluster']\n",
    "\n",
    "\n",
    "rfm_normalized_df.head()"
   ]
  },
  {
   "cell_type": "code",
   "execution_count": 178,
   "metadata": {},
   "outputs": [
    {
     "data": {
      "text/html": [
       "<div>\n",
       "<style scoped>\n",
       "    .dataframe tbody tr th:only-of-type {\n",
       "        vertical-align: middle;\n",
       "    }\n",
       "\n",
       "    .dataframe tbody tr th {\n",
       "        vertical-align: top;\n",
       "    }\n",
       "\n",
       "    .dataframe thead th {\n",
       "        text-align: right;\n",
       "    }\n",
       "</style>\n",
       "<table border=\"1\" class=\"dataframe\">\n",
       "  <thead>\n",
       "    <tr style=\"text-align: right;\">\n",
       "      <th></th>\n",
       "      <th>user_id</th>\n",
       "      <th>cluster</th>\n",
       "      <th>attribute</th>\n",
       "      <th>value</th>\n",
       "    </tr>\n",
       "  </thead>\n",
       "  <tbody>\n",
       "    <tr>\n",
       "      <th>0</th>\n",
       "      <td>1.0</td>\n",
       "      <td>2</td>\n",
       "      <td>recency</td>\n",
       "      <td>-2.121185</td>\n",
       "    </tr>\n",
       "    <tr>\n",
       "      <th>1</th>\n",
       "      <td>2.0</td>\n",
       "      <td>2</td>\n",
       "      <td>recency</td>\n",
       "      <td>-1.341462</td>\n",
       "    </tr>\n",
       "    <tr>\n",
       "      <th>2</th>\n",
       "      <td>3.0</td>\n",
       "      <td>1</td>\n",
       "      <td>recency</td>\n",
       "      <td>-0.561738</td>\n",
       "    </tr>\n",
       "    <tr>\n",
       "      <th>3</th>\n",
       "      <td>4.0</td>\n",
       "      <td>1</td>\n",
       "      <td>recency</td>\n",
       "      <td>-0.429243</td>\n",
       "    </tr>\n",
       "    <tr>\n",
       "      <th>4</th>\n",
       "      <td>5.0</td>\n",
       "      <td>2</td>\n",
       "      <td>recency</td>\n",
       "      <td>0.469001</td>\n",
       "    </tr>\n",
       "  </tbody>\n",
       "</table>\n",
       "</div>"
      ],
      "text/plain": [
       "   user_id  cluster attribute     value\n",
       "0      1.0        2   recency -2.121185\n",
       "1      2.0        2   recency -1.341462\n",
       "2      3.0        1   recency -0.561738\n",
       "3      4.0        1   recency -0.429243\n",
       "4      5.0        2   recency  0.469001"
      ]
     },
     "execution_count": 178,
     "metadata": {},
     "output_type": "execute_result"
    }
   ],
   "source": [
    "rfm_melt = pd.melt(rfm_normalized_df.reset_index(), \n",
    "                    id_vars=['user_id', 'cluster'],\n",
    "                    value_vars=['recency', 'frequency', 'monetary'], \n",
    "                    var_name='attribute', \n",
    "                    value_name='value')\n",
    "\n",
    "rfm_melt.head()"
   ]
  },
  {
   "cell_type": "code",
   "execution_count": 179,
   "metadata": {},
   "outputs": [
    {
     "data": {
      "text/plain": [
       "<matplotlib.axes._subplots.AxesSubplot at 0x244d67360f0>"
      ]
     },
     "execution_count": 179,
     "metadata": {},
     "output_type": "execute_result"
    },
    {
     "data": {
      "image/png": "[encoded data removed]",
      "text/plain": [
       "<Figure size 432x288 with 1 Axes>"
      ]
     },
     "metadata": {
      "needs_background": "light"
     },
     "output_type": "display_data"
    }
   ],
   "source": [
    "#Snake Plot\n",
    "\n",
    "plt.title('Snake plot of standardized variables')\n",
    "sns.lineplot(x=\"attribute\", y=\"value\", hue='cluster', data=rfm_melt)"
   ]
  },
  {
   "cell_type": "markdown",
   "metadata": {},
   "source": [
    "### Relative importance of segment attributes"
   ]
  },
  {
   "cell_type": "code",
   "execution_count": 185,
   "metadata": {},
   "outputs": [],
   "source": [
    "cluster_avg = rfm_w_clusters.groupby(['cluster']).mean()\n",
    "population_avg = rfm[['recency', 'frequency', 'monetary']].mean()\n",
    "\n",
    "relative_importance = cluster_avg / population_avg - 1"
   ]
  },
  {
   "cell_type": "code",
   "execution_count": 192,
   "metadata": {},
   "outputs": [],
   "source": [
    "relative_importance = relative_importance[['recency', 'frequency', 'monetary']]"
   ]
  },
  {
   "cell_type": "code",
   "execution_count": 198,
   "metadata": {},
   "outputs": [
    {
     "data": {
      "image/png": "[encoded data removed]",
      "text/plain": [
       "<Figure size 432x360 with 2 Axes>"
      ]
     },
     "metadata": {
      "needs_background": "light"
     },
     "output_type": "display_data"
    }
   ],
   "source": [
    "plt.figure(figsize=(6, 5))\n",
    "plt.title('Relative importance of attributes')\n",
    "sns.heatmap(data=relative_importance, annot=True, fmt='.2f', cmap='RdYlGn')\n",
    "plt.show()"
   ]
  }
 ],
 "metadata": {
  "kernelspec": {
   "display_name": "Python 3",
   "language": "python",
   "name": "python3"
  },
  "language_info": {
   "codemirror_mode": {
    "name": "ipython",
    "version": 3
   },
   "file_extension": ".py",
   "mimetype": "text/x-python",
   "name": "python",
   "nbconvert_exporter": "python",
   "pygments_lexer": "ipython3",
   "version": "3.7.0"
  }
 },
 "nbformat": 4,
 "nbformat_minor": 2
}
