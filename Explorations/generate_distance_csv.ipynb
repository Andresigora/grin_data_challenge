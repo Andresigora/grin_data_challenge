{
 "cells": [
  {
   "cell_type": "markdown",
   "metadata": {},
   "source": [
    "Yellow/Grin Technical Challenge Data Team\n",
    "==========="
   ]
  },
  {
   "cell_type": "code",
   "execution_count": 14,
   "metadata": {},
   "outputs": [],
   "source": [
    "import matplotlib.pyplot as plt\n",
    "import numpy as np\n",
    "import pandas as pd\n",
    "import psycopg2\n",
    "import seaborn as sns\n",
    "\n",
    "from geopy import Point\n",
    "from geopy.distance import geodesic"
   ]
  },
  {
   "cell_type": "markdown",
   "metadata": {},
   "source": [
    "### Connecting to Grin Challenge Database\n"
   ]
  },
  {
   "cell_type": "code",
   "execution_count": 4,
   "metadata": {},
   "outputs": [],
   "source": [
    "def get_from_sql(query):\n",
    "    conn = psycopg2.connect(user='grin_technical_challenge',\n",
    "                               host='grin-technical-test.crf3v8rvj0hp.us-east-1.rds.amazonaws.com',\n",
    "                               database='postgres',\n",
    "                               port='5432',\n",
    "                               password='kjbaskc24bkjhb354bbjk')\n",
    "    df = pd.read_sql(query, conn)\n",
    "    return df"
   ]
  },
  {
   "cell_type": "markdown",
   "metadata": {},
   "source": [
    "### Retrieving rides data and joining with open app events with session.\n"
   ]
  },
  {
   "cell_type": "code",
   "execution_count": 5,
   "metadata": {},
   "outputs": [],
   "source": [
    "query = '''\n",
    "select rd.id as ride_id\n",
    "     , rd.start_time\n",
    "     , rd.finish_time\n",
    "     , rd.starting_lng\n",
    "     , rd.starting_lat\n",
    "     , rd.dest_lng\n",
    "     , rd.dest_lat\n",
    "     , rd.price\n",
    "     , rd.scooter_id\n",
    "     , oa.open_time\n",
    "     , oa.id as open_app_id\n",
    "     , oa.starting_lng as open_app_lng\n",
    "     , oa.starting_lat as open_app_lat\n",
    "from public.rides rd\n",
    "left join public.open_app oa\n",
    "on rd.open_app_id = oa.id\n",
    "'''\n",
    "\n",
    "\n",
    "df = get_from_sql(query)"
   ]
  },
  {
   "cell_type": "markdown",
   "metadata": {},
   "source": [
    "Calculate distance between the user when he opened the app and the scooter chosen to ride"
   ]
  },
  {
   "cell_type": "code",
   "execution_count": 6,
   "metadata": {},
   "outputs": [],
   "source": [
    "def get_geodesic_distance(point1, point2):\n",
    "    \"\"\"\n",
    "    Measure the geodesic distance in meters between 2 points.\n",
    "    >>> get_geodesic_distance((-23.56768, -46.6789234), (-23.57768, -46.6739234))\n",
    "    1219.4818091223003\n",
    "\n",
    "    :param point1: tuple containing latitude and longitude pair (in this specific order)\n",
    "    :param point2: tuple containing latitude and longitude pair (in this specific order)\n",
    "    \n",
    "    :return: distance in meters between the given points\n",
    "    :rtype: float\n",
    "    \"\"\"\n",
    "    try:\n",
    "        point_a = Point(*point1)\n",
    "        point_b = Point(*point2)\n",
    "\n",
    "        return geodesic(point_a, point_b, ellipsoid='WGS-84').meters\n",
    "    except:\n",
    "        return None"
   ]
  },
  {
   "cell_type": "code",
   "execution_count": 16,
   "metadata": {
    "scrolled": true
   },
   "outputs": [
    {
     "data": {
      "text/html": [
       "<div>\n",
       "<style scoped>\n",
       "    .dataframe tbody tr th:only-of-type {\n",
       "        vertical-align: middle;\n",
       "    }\n",
       "\n",
       "    .dataframe tbody tr th {\n",
       "        vertical-align: top;\n",
       "    }\n",
       "\n",
       "    .dataframe thead th {\n",
       "        text-align: right;\n",
       "    }\n",
       "</style>\n",
       "<table border=\"1\" class=\"dataframe\">\n",
       "  <thead>\n",
       "    <tr style=\"text-align: right;\">\n",
       "      <th></th>\n",
       "      <th>ride_id</th>\n",
       "      <th>start_time</th>\n",
       "      <th>finish_time</th>\n",
       "      <th>starting_lng</th>\n",
       "      <th>starting_lat</th>\n",
       "      <th>dest_lng</th>\n",
       "      <th>dest_lat</th>\n",
       "      <th>price</th>\n",
       "      <th>scooter_id</th>\n",
       "      <th>open_time</th>\n",
       "      <th>open_app_id</th>\n",
       "      <th>open_app_lng</th>\n",
       "      <th>open_app_lat</th>\n",
       "      <th>distance_to_scooter</th>\n",
       "    </tr>\n",
       "  </thead>\n",
       "  <tbody>\n",
       "    <tr>\n",
       "      <th>0</th>\n",
       "      <td>22822</td>\n",
       "      <td>2018-08-27 23:59:58.348288</td>\n",
       "      <td>2018-08-28 00:11:44.348288</td>\n",
       "      <td>-46.687651</td>\n",
       "      <td>-23.577836</td>\n",
       "      <td>-46.660098</td>\n",
       "      <td>-23.572932</td>\n",
       "      <td>9.43</td>\n",
       "      <td>40667</td>\n",
       "      <td>2018-08-27 23:59:11.036229</td>\n",
       "      <td>4208314</td>\n",
       "      <td>-46.687651</td>\n",
       "      <td>-23.577836</td>\n",
       "      <td>0.0</td>\n",
       "    </tr>\n",
       "    <tr>\n",
       "      <th>1</th>\n",
       "      <td>23077</td>\n",
       "      <td>2018-09-13 21:44:59.369494</td>\n",
       "      <td>2018-09-13 22:10:45.369494</td>\n",
       "      <td>-46.669065</td>\n",
       "      <td>-23.568421</td>\n",
       "      <td>-46.730697</td>\n",
       "      <td>-23.634002</td>\n",
       "      <td>24.19</td>\n",
       "      <td>29374</td>\n",
       "      <td>2018-09-13 21:44:36.178091</td>\n",
       "      <td>7088907</td>\n",
       "      <td>-46.669065</td>\n",
       "      <td>-23.568421</td>\n",
       "      <td>0.0</td>\n",
       "    </tr>\n",
       "    <tr>\n",
       "      <th>2</th>\n",
       "      <td>23347</td>\n",
       "      <td>2018-08-17 04:14:18.221686</td>\n",
       "      <td>2018-08-17 04:36:44.221686</td>\n",
       "      <td>-46.542360</td>\n",
       "      <td>-23.528990</td>\n",
       "      <td>-46.566309</td>\n",
       "      <td>-23.539473</td>\n",
       "      <td>12.77</td>\n",
       "      <td>117637</td>\n",
       "      <td>2018-08-17 04:14:04.173611</td>\n",
       "      <td>2527218</td>\n",
       "      <td>-46.542360</td>\n",
       "      <td>-23.528990</td>\n",
       "      <td>0.0</td>\n",
       "    </tr>\n",
       "    <tr>\n",
       "      <th>3</th>\n",
       "      <td>23413</td>\n",
       "      <td>2018-08-22 09:08:16.162486</td>\n",
       "      <td>2018-08-22 09:20:01.162486</td>\n",
       "      <td>-46.533701</td>\n",
       "      <td>-23.650436</td>\n",
       "      <td>-46.544000</td>\n",
       "      <td>-23.640647</td>\n",
       "      <td>6.00</td>\n",
       "      <td>88000</td>\n",
       "      <td>2018-08-22 09:07:30.332329</td>\n",
       "      <td>3324081</td>\n",
       "      <td>-46.533701</td>\n",
       "      <td>-23.650436</td>\n",
       "      <td>0.0</td>\n",
       "    </tr>\n",
       "    <tr>\n",
       "      <th>4</th>\n",
       "      <td>24235</td>\n",
       "      <td>2018-09-01 02:29:44.037555</td>\n",
       "      <td>2018-09-01 02:45:12.037555</td>\n",
       "      <td>-46.570279</td>\n",
       "      <td>-23.742442</td>\n",
       "      <td>-46.598598</td>\n",
       "      <td>-23.751569</td>\n",
       "      <td>9.90</td>\n",
       "      <td>6779</td>\n",
       "      <td>2018-09-01 02:29:07.982184</td>\n",
       "      <td>4891295</td>\n",
       "      <td>-46.570279</td>\n",
       "      <td>-23.742442</td>\n",
       "      <td>0.0</td>\n",
       "    </tr>\n",
       "  </tbody>\n",
       "</table>\n",
       "</div>"
      ],
      "text/plain": [
       "   ride_id                 start_time                finish_time  \\\n",
       "0    22822 2018-08-27 23:59:58.348288 2018-08-28 00:11:44.348288   \n",
       "1    23077 2018-09-13 21:44:59.369494 2018-09-13 22:10:45.369494   \n",
       "2    23347 2018-08-17 04:14:18.221686 2018-08-17 04:36:44.221686   \n",
       "3    23413 2018-08-22 09:08:16.162486 2018-08-22 09:20:01.162486   \n",
       "4    24235 2018-09-01 02:29:44.037555 2018-09-01 02:45:12.037555   \n",
       "\n",
       "   starting_lng  starting_lat   dest_lng   dest_lat  price  scooter_id  \\\n",
       "0    -46.687651    -23.577836 -46.660098 -23.572932   9.43       40667   \n",
       "1    -46.669065    -23.568421 -46.730697 -23.634002  24.19       29374   \n",
       "2    -46.542360    -23.528990 -46.566309 -23.539473  12.77      117637   \n",
       "3    -46.533701    -23.650436 -46.544000 -23.640647   6.00       88000   \n",
       "4    -46.570279    -23.742442 -46.598598 -23.751569   9.90        6779   \n",
       "\n",
       "                   open_time  open_app_id  open_app_lng  open_app_lat  \\\n",
       "0 2018-08-27 23:59:11.036229      4208314    -46.687651    -23.577836   \n",
       "1 2018-09-13 21:44:36.178091      7088907    -46.669065    -23.568421   \n",
       "2 2018-08-17 04:14:04.173611      2527218    -46.542360    -23.528990   \n",
       "3 2018-08-22 09:07:30.332329      3324081    -46.533701    -23.650436   \n",
       "4 2018-09-01 02:29:07.982184      4891295    -46.570279    -23.742442   \n",
       "\n",
       "   distance_to_scooter  \n",
       "0                  0.0  \n",
       "1                  0.0  \n",
       "2                  0.0  \n",
       "3                  0.0  \n",
       "4                  0.0  "
      ]
     },
     "execution_count": 16,
     "metadata": {},
     "output_type": "execute_result"
    }
   ],
   "source": [
    "df['distance_to_scooter'] = df.apply(lambda row: get_geodesic_distance((row['open_app_lat'], row['open_app_lng']), (row['starting_lat'], row['starting_lng'])), axis=1)\n",
    "df.head()"
   ]
  },
  {
   "cell_type": "markdown",
   "metadata": {},
   "source": [
    "Same distance. Can't generate any insights from this."
   ]
  }
 ],
 "metadata": {
  "kernelspec": {
   "display_name": "Python 3",
   "language": "python",
   "name": "python3"
  },
  "language_info": {
   "codemirror_mode": {
    "name": "ipython",
    "version": 3
   },
   "file_extension": ".py",
   "mimetype": "text/x-python",
   "name": "python",
   "nbconvert_exporter": "python",
   "pygments_lexer": "ipython3",
   "version": "3.7.0"
  }
 },
 "nbformat": 4,
 "nbformat_minor": 2
}
